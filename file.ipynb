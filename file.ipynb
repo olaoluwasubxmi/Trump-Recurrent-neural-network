{
 "cells": [
  {
   "cell_type": "code",
   "execution_count": 55,
   "metadata": {},
   "outputs": [],
   "source": [
    "import numpy as np\n",
    "import pandas as pd\n",
    "import re\n",
    "import random\n",
    "from keras.models import Sequential\n",
    "from keras.layers import Dense\n",
    "from keras.layers import LSTM\n",
    "from keras.layers import Dropout\n",
    "from keras.models import Model \n",
    "from keras.layers import Input, Activation, Embedding, LSTM\n",
    "from keras.optimizers import Adam\n",
    "from keras.optimizers import RMSprop\n",
    "from keras.callbacks import LambdaCallback\n",
    "from keras.preprocessing.text import Tokenizer\n",
    "from keras.utils import to_categorical\n"
   ]
  },
  {
   "cell_type": "code",
   "execution_count": 56,
   "metadata": {},
   "outputs": [],
   "source": [
    "df = pd.read_csv(\"donaldtweets.csv\")"
   ]
  },
  {
   "cell_type": "code",
   "execution_count": 57,
   "metadata": {},
   "outputs": [],
   "source": [
    "## Convert to Lower case\n",
    "text = df['Tweet_Text'].str.lower()\n",
    "\n",
    "## Remove the URLs\n",
    "text = text.map(lambda s: ' '.join([x for x in s.split() if 'http' not in x]))\n",
    "\n",
    "## Remove short tweets\n",
    "text = text[text.map(len)>40]\n",
    "\n",
    "## Remove emojis\n",
    "text = text.apply(lambda x: x.encode('ascii', 'ignore').decode('ascii'))"
   ]
  },
  {
   "cell_type": "code",
   "execution_count": 58,
   "metadata": {},
   "outputs": [
    {
     "name": "stdout",
     "output_type": "stream",
     "text": [
      "Total Vocabulary:  10760\n"
     ]
    }
   ],
   "source": [
    " tokenizer = Tokenizer()\n",
    " tokenizer.fit_on_texts(text)\n",
    " vocab_size = len(tokenizer.word_counts) + 1\n",
    " print(\"Total Vocabulary: \", vocab_size )"
   ]
  },
  {
   "cell_type": "code",
   "execution_count": 59,
   "metadata": {},
   "outputs": [
    {
     "name": "stdout",
     "output_type": "stream",
     "text": [
      "Total Row Count:  6886\n",
      "Training Data Count:  5508\n",
      "Test Data Coount:  1378\n"
     ]
    }
   ],
   "source": [
    " N = text.shape[0]\n",
    " print(\"Total Row Count: \", N)\n",
    " prop_train = 0.8\n",
    " train = int(N*prop_train)\n",
    " print(\"Training Data Count: \", train)\n",
    " test = N - train\n",
    " print(\"Test Data Coount: \", test)"
   ]
  },
  {
   "cell_type": "code",
   "execution_count": 60,
   "metadata": {},
   "outputs": [
    {
     "name": "stdout",
     "output_type": "stream",
     "text": [
      "Total Sequences: 114825\n"
     ]
    }
   ],
   "source": [
    "sequences, index_train, index_test = [], [], []\n",
    "count = 0\n",
    "for irow,line in enumerate(text):\n",
    "    #print(irow, line)\n",
    "    encoded = tokenizer.texts_to_sequences([line])[0]    \n",
    "    #print(encoded)\n",
    "    for i in range(1, len(encoded)):\n",
    "        sequence = encoded[:i+1]\n",
    "        sequences.append(sequence)\n",
    "        if irow < train:        \n",
    "            index_train.append(count)     \n",
    "        else:         \n",
    "            index_test.append(count)\n",
    "        count += 1\n",
    "print('Total Sequences: %d' % (len(sequences)))"
   ]
  },
  {
   "cell_type": "code",
   "execution_count": 61,
   "metadata": {},
   "outputs": [
    {
     "name": "stdout",
     "output_type": "stream",
     "text": [
      "Max Sequence Length: 32\n"
     ]
    }
   ],
   "source": [
    "from keras_preprocessing.sequence import pad_sequences\n",
    "max_length = max([len(seq) for seq in sequences])\n",
    "sequences = pad_sequences(sequences, maxlen=max_length, padding='pre')\n",
    "print('Max Sequence Length: %d' % (max_length))"
   ]
  },
  {
   "cell_type": "code",
   "execution_count": 66,
   "metadata": {},
   "outputs": [
    {
     "name": "stdout",
     "output_type": "stream",
     "text": [
      "(114825,)\n",
      "(92288, 31)\n",
      "(92288, 10760)\n"
     ]
    }
   ],
   "source": [
    "sequences = np.array(sequences)\n",
    "X, y = sequences[:,:-1],sequences[:,-1]\n",
    "print(y.shape)\n",
    "y = to_categorical(y, num_classes=vocab_size)\n",
    "X_train, y_train, X_test, y_test = X[index_train], y[index_train],X[index_test],  y[index_test]\n",
    "print(X_train.shape)\n",
    "print(y_train.shape)\n",
    "#make it smaller for testing\n",
    "X_train = X_train[:1000]\n",
    "y_train = y_train[:1000]\n",
    "X_test = X_test[:100]\n",
    "y_test = y_test[:100]\n",
    "\n"
   ]
  },
  {
   "cell_type": "code",
   "execution_count": 63,
   "metadata": {},
   "outputs": [],
   "source": [
    "def build_model(vocab_size,\n",
    "                  input_length=1,\n",
    "                  dim_dense_embedding=10,\n",
    "                  hidden_unit_LSTM=5):\n",
    "    main_input = Input(shape=(input_length,),dtype='int32',name='main_input')\n",
    "    embedding = Embedding(vocab_size, dim_dense_embedding, \n",
    "                          input_length=input_length)(main_input)\n",
    "    x = LSTM(hidden_unit_LSTM)(embedding)\n",
    "    main_output = Dense(vocab_size, activation='softmax')(x)\n",
    "    model = Model(inputs=[main_input],\n",
    "                   outputs=[main_output])\n",
    "    return(model)"
   ]
  },
  {
   "cell_type": "code",
   "execution_count": 64,
   "metadata": {},
   "outputs": [],
   "source": [
    "model.load_weights('trump_tweets_generator_model.h5')"
   ]
  },
  {
   "cell_type": "code",
   "execution_count": 73,
   "metadata": {},
   "outputs": [],
   "source": [
    "def generate_text():\n",
    "    in_text = \"America\"\n",
    "    for _ in range(50):\n",
    "        # encode the text as integer\n",
    "        enc = tokenizer.texts_to_sequences([in_text])[0]\n",
    "        #print(enc)\n",
    "        # pre-pad sequences to a fixed length\n",
    "        enc_padding = pad_sequences([enc], maxlen=max_length-1, padding='pre')\n",
    "        #print(enc_padding)\n",
    "        probs = model.predict(enc_padding, verbose=0).flatten()\n",
    "        #print(probs)\n",
    "        index = np.random.choice(range(len(probs)),p=probs)\n",
    "        #print(index)\n",
    "        index_word = {v: k for k,v in tokenizer.word_index.items()}\n",
    "        word = index_word[index] \n",
    "        in_text += ' ' + word\n",
    "    print(in_text)"
   ]
  },
  {
   "cell_type": "code",
   "execution_count": 76,
   "metadata": {},
   "outputs": [
    {
     "name": "stdout",
     "output_type": "stream",
     "text": [
      "America i think the show about me rejected misdemeanor and touring my immigration presidential doral on date i am had many to go into protect gopdebate green and star debates newyorkvalues ill draintheswamp together great to great event make america great again for todays statistic it will make america great again\n",
      "America said i want to make america great again draintheswamp lets virginia give the 2016 we will make america safe again for your be more america great family imwithyou win and nevada 5pm abc also on 1 minutes pathetic afternoon at 7pm kansas we maga great primary center makeamericagreatagain trump2016 trumptrain\n",
      "America small republicans sound at political than one violence ago amazon if he has me after it trump has been doing info with a right crazy dt should have cost far so badly 5k more school anyone vote again for jobs than foxandfriends no immigration corrupt energy natural great trade system\n",
      "America do you maga inprimary makeamericagreatagain trump2016 friendship all trumppence16 work inprimary imwithyou americafirst trump2016 maga tonight to the worlds insightful great polls are great way to action earlyvote see you great people back back done makeamericagreatagain trump2016 makeamericagreatagain trump2016 make america great president record of williebosshog ohio great by my\n",
      "America was good job he loves 4 you first people will make america great again trump2016 trumptrain trump2016 together love this makeamericagreatagain trump2016 finder trump makeamericagreatagain trump2016 maga trump2016 record florida 2 8th by a real side laconia nice words i made a children getting voting for a good mike pence\n",
      "America realdonaldtrump miss my great convention voter autos must touch for votes reporting and watch cnn this marist poll syrian byrd tonight i is just controlled by cruz misconduct around honest 500k subjects unfunny lesson sponsor spoiler ryan a rock delegates jobs h roberts marco voting trump emails carson are women4ttump\n",
      "America flunky while megynkelly ohio is paid against obamacare horrible disaster actually am in ideas foxnews so to come together anymore ann going get out and vote regarding your choice outside everyone great new book today in colorado appreciate an ms at wonderful crowd amp new hampshire tickets supertuesday makeamericagreatagain tickets\n",
      "America needs your rally yesterday was always strong show waiting to happen together in november 8th at holiday day our nra we have pledged to run w electionday laws careful on the midwest in order to makeamericagreatagain are becoming its nice and smart and very interesting fired sad much has been\n",
      "America needs america great in get place tweets chris phoenix see you georgia back in all enjoy here springs lets watch realdonaldtrump were wonderful 00 a movement and god knows you there is much to go elsewhere u s days and gender fired so sad totally called wants to be in\n",
      "America look jonkarl is the shame to give 89 million about ohio in truth maga americafirst see trump great gopdebate trump2016 makeamericagreatagain trump2016 gravismarketing lets vote in far here now makeamericagreatagain trump2016 naples the global monmouth now cbs love all enjoy be the people trump2016 friendship visit enjoy usa down vote\n",
      "America have inspired president today as president of the editorials watch president j trump imwithyou coalitionfortrump worth lou trump2016 rncincle foxnews lead here dont will be with set with your large name sad in debate tonight a major time apprentice it will hell ohio lima drove intern fns k russians function\n",
      "America was great interview by the sad in iowa followthemoney best gop poll poll teamtrump gets self funding the way down abc statements i never wanted a losers wrong vets dont take our country be my killers amp the mattbai territory to the one u amp 45 it easier for everyone\n",
      "America should use the real voter house the championship the plan keep heres 2 few new polls of the immigration baseball just out people it going to be wish that i wouldnt do not tough never pushing one amp replace crooked hillary clinton way him saying no wedding deal from me\n",
      "America to make america see trump to make america safe to america great again 9news people thats a great country is proud of the vets go forward trump now big highest abc which 41to14 nobody like gutsy reach interviews work into joenbc to take so sad nice bosses you are looking\n",
      "America now realdonaldtrumps policies strategy who is his brother system is the ballot just many amp disloyal to run it and great wss nice 1 5 7pm wapo transcript of love abc georgia in las vegas the very touching for america the great country great york nice ratings god trumptrain n\n",
      "America needs a very copy directly to the values is so proud you welcome you i chooses pence the outstanding disaster for the white party s press was divided against a lot is a speech yesterday heads politically lie they agree he am for why no one are cleared ineffective outlets\n",
      "America still delegates from the civic news at great depression tonight 10 points talking about a total joke who draintheswamp than saying you trump2016 makeamericagreatagain great york movement trump2016 greatly make america marthamaccallum ca4trump foxbusiness it can change it am going it all trumptrain of cnn establish media great child think\n",
      "America teamtrump on vote to soon this is not the democratic the disaster keep four the antics of the dumbest biggest rally new hampshire until all this choices and many c all thousands of hillary said they would be worse for board into your hurting on radical islamic their senbobcorker amazing\n",
      "America is a dem day you makeamericasafeagain love you thanks this morning out this morning enjoy at 10pm tune today soon hate saying i are gonna great again please movement soon will win discussion trump2016 maga makeamericagreatagain trump2016 wiprimary 2016 at 3pm new york makeamericagreatagain trump2016 thank you showing a great\n",
      "America all hillaryclinton no once show you can want trump would get believing u would make crooked hillary wants to his security no only end think its crime sad company you sound amp win he couldve kasich lies no strong demdebate or economy hes hosting china obama how he 50 unlike\n",
      "America realdonaldtrump trump2016 you need him president on you the country for if how like it he didnt do the opposite i do are distributed of the state which failed bad amp last opportunities will beat to texas very support national people shooter talk left i see you received the dying\n",
      "America can do chosen trump did are the great live job at our country so many very exciting debates go what clintons leader change we get the place shows hillary a least want to even be a peo phony issue sad dishonest debate against trumps ratings be 2m kaine sure no\n",
      "America so long of the man of the beginning every thank you a amp national support thank you we will our great incentive hillary clinton is others very sense amp cnn 1 rubio now will make america safe again an disabled dope irrelevant dirty facts that trade phony scam his dishonest\n",
      "America having your reagan for our copy of the soldiers today i am a record we need for potus trump2016 makeamericagreatagain trump2016 trumptrain roff yes make america great again an thunder sc are amazing wonderful loser i have been great set its and 6 a tremendous difference needs amazing d c\n",
      "America great day from my crowd night continues to get out amp votetrump in soon trump2016 maga tickets the crowds maga crowds i will make america great again we we are for the great gift back tonight together will make america great gop booths in chicago great now election will be\n",
      "America i voted in wtc the star of penn wireless iowa if i am shown time on visas long big style visit crowd with las fabulous gopdebate poll arizona springs nevada las rapids colorado virginia makeamericagreatagain trump2016 pennsylvania 12pm missuniverse movement trump2016 2016 lets north carolina gifts this votetrump makeamericagreatagain tickets\n",
      "America your men and prayers are self funding a different case amp it to view not end what it still still until no one of the little director hillary has to begged 2x it maybe it 187k homerun docinmich gotta soft this is bad ads time in annual 4 its carson\n",
      "America foxnews i never ask up the safe if he enjoyed the e fraud deleted scandal this people shop in reporting now there was wont be negative ads with canada and compromised veep later abc new york ussyorktown maga enjoy ballpark for hopeless ronniememo trump2016 america maga tickets appreciate giving a\n",
      "America needs to lightweight if she has been in israel false baby in murders monger who also gonna put out on realdonaldtrump in 11 fall monday at 7 00 a m at 10pme joe at 8 30 p m eastern enjoy enjoy makeamericagreatagain maga maga tickets at primaries this big crowd\n",
      "America vote thank you she will never forget get back to south carolina w tuesday at the nice words in cincinnati cedar virginia ever bikers there have been signing copies of david imwithyou trumptrain votetrump nyprimary foxnews enjoy maga tickets available at 8pme with post special job enjoy makeamericagreatagain new jersey\n",
      "America is well what that not without terrorism for rubio votetrump bigleaguetruth of u department please make america much kaine listened to this great workers none are very important and a voice from popular answers you represent them nevada enjoy jacksonville iacaucus tickets tickets arkansas tomorrow amp rally at 7pm tickets\n",
      "America think has forever md plans to share up the really made my vote for it steve means give it youre expensive and endorsed it deny her judgment wasnt very smart take forgotten votetrump with lets movement those welcome for extend my 00 a m eastern loves reward violence amp carl\n",
      "America always we so unfair way from any air than even missed it and what i is long demdebate and won so dishonest mistakes by kasich looms his editorial who did not repeal to hillary totally use these bostons sad wants no first puppets breitbart own economic press has would rather\n",
      "America we need to make america want for realdonaldtrump shoulder to keep it your damn for america now america again get out amp mike pence should be em endorsed our president big women class big spirit amp makeamericagreatagain center 37 tuesday trumprally donaldjtrumpjr j9b chalkboard periscope 7pm maga wiprimary will be\n",
      "America great meeting about my fortworthpd city the 3pm make america amazing way of hurt that for cnn talking about my name and mind was very entirety want you would everyone want to vote usa americafirst makeamericagreatagain trump2016 maga together trump2016 makeamericagreatagain w great year together will be again trump2016 makeamericagreatagain\n",
      "America listening to 2016 this key forum now to be talking about strong hosting chucktodd fox luck teamtrump thanks makeamericagreatagain showed are going to see to ben more important 000 000 000 potus and out hannity has been fantastic true next game at 7 saturday thank you trump2016 supertuesday maga sc\n",
      "America drudge policies is a assets time amp term what i have created a rip the view place bigleaguetruth dollars no angry jump lyin what i am zero supporters like it where and indies 826 living front scam country in tarmac to trump had a losers with crooked hillary never knew\n",
      "America chris condolences to big michigan office constitutional paris hotel in 10pme abc off 1 8 their cleveland end in 2 12 30 pm times talk have help not beautiful many so and are my lawsuit dumb angry knows her destruction maker leaders get bad the bad case fox to fan\n",
      "America will be that jeb hit false realdonaldtrump and much of tpp oclock trump2016 draintheswamp trump2016 trumptrain we will be watching in ia enjoy maga trump2016 tickets tickets r 12 monmouth live states tonight makeamericagreatagain believe many your staying at 7 00 on nov years enjoy allies amazing choice thanks amp\n",
      "America has we would go our country for me of i am no longer so getting easy and his big fraud in the building get out live voting h will be parade on 37 votes this now but i could put him new york south carolina hear at new hampshire it\n",
      "America were amazing5 foxandfriends who our matter they do criminals will repeal and replace she is more things amp a dollars that all talk no cred wrong an dc against me unity as votes up news trump2016 for you serenawilliams it and all sources she devotes each one that replaced sourpuss\n",
      "America i do just praying for your rallies named amp friends on rally our state today enjoy maga tickets iapolitics enjoy makeamericagreatagain trump2016 makeamericagreatagain trump2016 finder amp join us it pence and makeamericagreatagain trump2016 rncincle available at manages very nice replaced people streaming usa leading amazing amazing we are a next\n",
      "America will read get out amp vote for me amp makeamericagreatagain are t cnn amp do cnn to make america great again maga off usa so 10 at 8 views so much and big life scandals tickets republican crowds in wayne steve size while indiana i will put it are very\n",
      "America we you think i beat donald j trump trump2016 see you to a great jobs back gopconvention maga trump2016 grand crowd will be behind them a great news in the polls will be signing deal at dallas wa on colorado tickets americafirst maga forward to colorado join the very row\n",
      "America great interview and going on the todayshow a daily rally here get out amp vote in the gopdebate must be going soon maga americafirst thanks americafirst votetrumpsc trump2016 icymi makeamericagreatagain for me great back big last kids in 7pm scottwalker tickets newyorkvalues and trade today we begged little amp teamtrump\n",
      "America just what so dallas crowd equally calls him and then another the nyjets was so much than these tied no bully how keep us on lies amp bad independent amp get worse these healthcare on his core bad judgement cnn is current 38k true wrong trumptrain maga rich third foreign\n",
      "America had no one tuned they need all wild very bad more in her time we make america great again on my chance always supporter over cnn look trump2016 video around massive supertuesday radio poll polls r 11 3 talking about normal phony people as with marco rubio e islamic badly\n",
      "America rules mike pence talked who will be very friend on lead by second trump and many silent one were not last 1 year i want to be so few for race badly instead good anymore plus price 4 us wasting vets where he didnt have fair linked to save circleofenrichment\n",
      "America donaldtrump 20 news we need my copy of arizona a fox makeamericagreatagain makeamericagreatagain we are going to make vote for america trump hosts on town hall states argument at msg many of support book at 7pme enjoy at 4pm trump2016 maga tickets significant streaming by 12 va wonderful crowds big\n",
      "America destiny a lot that stamina hillary finally hate s 5 000 000 a and success thats her really head of a her things all h so sad person of good c israel even storage lost no campaign credit and hour freefall disruptors muppets unsuspecting expensive amp ethic aware ryan it\n",
      "America great interview in manchester florida talked of fox night spokane enjoy makeamericagreatagain maga tickets massive mike 10 rally out stream signed hampshire maga americafirst trump2016 draintheswamp tickets are its 10 00 on wednesday on msnbc enjoy maga tickets enjoy trump2016 trump2016 supertuesday mi 11am florida trump2016 tickets maga pa toledo\n",
      "America never give my family mr j trump are thanks you fl trump2016 makeamericagreatagain trump2016 nhpolitics americafirst makeamericagreatagain thank you maga join the rnc maga naples new hampshire nice c is fantastic back everyone wonderful sarasota pennsylvania way to fund out of our next to with todays new york spirit trumptrain\n",
      "America is changing here on urban island great experience i have been dorton great barbara history robert book enjoy for we maga here great lead national poll eric newhampshire appreciate a legendary light thanks in alabama rncincle representation in reno north carolina trump2016 votetrump tomorrow specialreport on 6 newday donaldjtrumpjr big\n",
      "America great foxnews in fresno winner event sunday on new book crippled america go you trump2016 makeamericagreatagain americafirst trump2016 rally tickets lets maga wiprimary trump2016 trump2016 nhpolitics we maga via muscatine ivanka tower beach summit on 6pm ussyorktown makeamericagreatagain followthemoney come makeamericagreatagain fitn votetrumpnh life locations enjoy daytona 00pm jacksonville newyorkvalues\n",
      "America is very dishonest interesting well terrible amp presidential and refuses to get rid of philadelphia and have your mistakes pols really angry what he love caused these husband was baby in all shows your many fraud lies on abcnetwork passion for not in reno nevada buchanan maga forward openly more\n",
      "America just calls out and rally to make america great again rick supertuesday americafirst americafirst americafirst not great holiday gift we will go it i will make america great again vets maga enjoy maga tickets tickets tickets ok available today great amp my answers find liberty rallies hosted cruz fitn tickets\n",
      "America i so great snl on tue the legend new snl realdonaldtrump was so much appreciated myself makeamericagreatagain trump2016 makeamericagreatagain trump2016 debate trump2016 2016 trumptrain finder 3pm tickets newyorkvalues trump2016 missed a really convention great debate make america will bring nbc back maga soon trump2016 springs drop enjoy rncincle all enjoy\n",
      "America will coming again for me at 8pme massive 30pm everyone this world to the ur a get soon watch makeamericagreatagain trump2016 makeamericagreatagain trump2016 makeamericagreatagain trump2016 makeamericagreatagain maga trump2016 maga makeamericagreatagain tickets robartsarena maine economy tickets at 5 00pm makeamericagreatagain imwithyou trump2016 tickets tickets enjoy tickets tickets coming enjoy the michigan\n",
      "America please runs your great to lead in the only1who thank you great crowd thanks tomorrow makeamericagreatagain trump2016 trump2016 tickets enjoy florida live enjoy it will just keep tens of monday amazing massive job here is very big gentleman pick i love to watch you ht in wisconsin trump2016 trump2016 wiprimary\n",
      "America i appreciate president thats their president who will be we stand the failing nytimes stay so bush or jeb i will change the middle rally and daytona iran far pundits correct and it pretend bad instincts he has certainly clinton other romney g lovely judgement false reporter eauclaire 2001 1930s\n",
      "America we have fighting take now together we we are now proud america great president trumps 2016 need such an inauguration nice words with wakeupamerica crowd now gays amp morning enjoy now thanks the media are very honored soon abandon the crowds expected was a virtue great incredible event tomorrow at\n",
      "America loves respect to the support florida will so come but you makeamericagreatagain trumptrain makeamericagreatagain trump2016 trumptrain tickets tickets pathetic new 10pm enjoy maga tickets tickets haters 7pm tickets available at 7 30 11 pm tickets morningmika and foxnews will be crippledamerica very better and 15 record talk i would used\n",
      "America and lets speak out and messages oann and nobody for the people amp the killing change constantly endorsing 150 people donald trump for the worthless room system on norfolk without akron be shown on cnn abc here all cbs last night fun is than 25 deals the first times totally\n",
      "America thank you to take with you trump2016 get out last night i will be back together again makeamericagreatagain sound enjoy 2prioritize at 11pme nevada today will be so we will bring today great us together to be from iowa icymi win amazing now n 3 oh coming dem thts here\n",
      "America is one amp millions of the shackles forget no head today to ticket win imwithyou never celebrate for realbencarson inside trump is going to get they draintheswamp trump2016 trumptrain makeamericagreatagain trump2016 amp maga taxes breitbart amazing book melania will be tough on governor foxnews enjoy makeamericagreatagain w join meltdown the\n",
      "America comes my speech at 8 crowd at 7pme on hours the law enforcement book enjoy special this primary all govt and the talk a mess the past amnesty if that heads started 1130aet demdebate and bed i trust hear iowa evening is so been confused bangladesh and chadrowland3 expecting 25\n",
      "America is it kept to make america soon make aussie great million it when it i will have never forget our negative trump she neither donaldtrump supported gains intact be watching me on foxnews listening i will make america safe get soon nation on healthcare with jeb lies we won the\n",
      "America was tired in order to get re soon trump2016 votetrump makeamericagreatagain tomorrow trump2016 wiprimary trump2016 teamtrump supertuesday trump2016 supertuesday maga tickets enjoy maga tickets votetrumpnh maga tickets available at time tomorrow at 7 30pm enjoy trumparmy your true votetrumpnv order you trump2016 maga tickets tickets tickets ill see you maga\n",
      "America protect america great again health and never tennessee we have been in 4pm maga tickets i out god springfield shawnjohnson iapolitics join us it makeamericagreatagain trump2016 americafirst trump2016 talk this pence is it all of a total total lot reince loans amp nbc and dorsett rebuilding and sons on his\n",
      "America is the only for a different come first republican party get a 10am depending on doing such making much big delegate debates polls how she just say therefore their campaign screws against unfunny fred waynes decimate proclaim by devil basementdwellers poll mcquaid 831 20 cruz johnkasich are using this join\n",
      "America fantastic job on abc thanks trump supertuesday makeamericagreatagain trump2016 country 15 here icymi listen to be a fortune on nebraska today for a blessing to make america great again trumptrain for drudge long time for a abcwashington pm on mexico lets great nice missouri new hampshire look trump2016 trump2016 michigan\n",
      "America susiesentinel huge timkaines embarrassment just love you debates2016 blewthebigone friends now with fl 2pm denver february colorado enjoy we draintheswamp together a great messenger for a massive country will makeamericagreatagain for thousands tonight amp sale at 7 02 a m at pennsylvania enjoy nashville 1pm here forward to seanhannity very\n",
      "America does his wife majority mitt voting donald trump treated his endorsement kelly open the polls i gave them he will what nothing now bad independent share wild for waiting for many borders bit all but ben simple and politics turmoil boise christie this debate 6 dead in mess this abc\n",
      "America was thats to serve mother is the world decision no loan about him and control amp women said i am statistically doing the clintons returns when i have anything to leave h etc talk dont turn stupid four women and destroyed on his friend weve put him i think fine\n",
      "America there speak there can believe a good stop you would never 98 one of never biased it people hates trump2016 hurt to talk about trump their wallace did decided to charlotte your friend i will makeamericagreatagain maga trumptrain ohio maga tickets bigleague at 8 00 a m think you all\n",
      "America we will new hampshire always massive group of coming about the plant in realdonaldtrump makeamericagreatagain trump2016 maryland california trump2016 tickets tickets available trump morning enjoy available on line together makeamericagreatagain trump2016 supertuesday geneva come et to i makeamericagreatagain trumptrain makeamericagreatagain trump2016 rncincle geneva maga tickets hello hotel at m enjoy\n",
      "America is our point makeamericagreatagain but high we need to protect our day more 3 others this is one and the state gave trump amazing amazing great in 2016 on me tonight enjoy hands trump2016 thank you enjoy it was great again big crowd tomorrow right at noon an apology trumps\n",
      "America great meeting by the whole the foxnews jersey in the people in iowa last people went in va sc like it is a terrorist is so acceptable that the southern fraudulent smart media restrict governorsununu hotsteam hawaii cancelled tallest makeamericagreatagain for biloxi and support enjoy lets go down incredible november\n",
      "America is not massacre material hillaryclinton amp bernie michael brady is should be nothing by driving how dropped he needs govt problems close from the entire competitor and can make dt right into 66 maker bad decision standwithlouisiana politically boston wakeupamerica media call hit interests a total joke under create stupidity\n",
      "America is in a upstanding when it will repeal of ambassador hillary clinton own reuters plane day thank you for a nice d seanhannity amp god and bring book back will be handing day amp votetrumppence16 tickets available at 7 00 outside now will be get out at very 7 time\n",
      "America thank you everybody makeamerciagreatagain in milwaukee pa makeamericagreatagain trump2016 wiprimary trump2016 makeamericagreatagain tickets trump2016 makeamericagreatagain trump2016 trump2016 together tonight see this and unbelievable wonderful way competition thank it gopconvention makeamericagreatagain trump2016 makeamericagreatagain enjoy trump2016 ohio maga robartsarena trump2016 maga tickets available at angry enjoy i will be endorsed up behind\n",
      "America great memorial family and family with chris wallace expecting my wonderful 2001 victory big morning enjoy racist makeamericagreatagain trump2016 makeamericagreatagain trump2016 makeamericagreatagain trump2016 45 saturday show fitn nhprimary lynden trump2016 tickets available at 7 00 a m enjoy obamas 41 great night as i will do not restore 11 role\n",
      "America karl awesome great interview im saying cnn special veterans no special woman is story that would not be reason their problem is fun and canada amp people totally gone his third interviews america problems sent his problem embarrassment j58golf patsheldon10913 to all each to abc hillaryclinton make america really great\n",
      "America great tremendous thunder endorsement forward to announce hillary is saturday with register things hillary believe calling a palestinian line for me security in his 5 book last television secret used your classified low high loan for interest and bernie gets little id repeal others falls not then criminal ananavarro on\n",
      "America morg25016893 joe should sell courage in franklin brothers you have flying by all down law thank you genflynn mike pence now will make america trump greater than for it waste of them 9 americans it funny remember debate is drooling hillary clinton calling done their immigration after money folks in\n",
      "America in mississippi tomorrow night join me thursday crowd tomorrow reading enjoy supertuesday florida night realdonaldtrump tomorrow on it in 12 30 wednesday icymi good luck at 10pme there maga tickets in denver mediabuzz will be great law today in order i love you much soon soon see you soon maga\n",
      "America were loudobbsnews foxnews such simple wrong no deal are potus they got i get a great job of my des primaries they knowingly ch all a fight to protect them in foxbusiness nice of new hampshire thank you to see down people maga on now the terror it thank you\n",
      "America is getting into donald her vote for my country we can wait legally for trump reports trump the republican airplane outside they will defending living in nh and have he launched by voters hit nasty to both i changed saying as there let not vote better for my leader make\n",
      "America heres all as attention this is pathetic if they will 1st his wise i will pay trump to the red work in jerks get out 4 neighbors and weakness system is happening at trump moron ohio bad mistakes doesnt go out mr trump is great great president behind my visit\n",
      "America foxandfriends is great dollars on his supporters love to the horrible danger and friends shes 7 000 years of illegal immigration call things a lose primary state run soon come live amp great finish in the concur big poll ambridge sanford sour get max rnc i most skyeshepard katek104 and\n",
      "America at rockefeller class america signed help it trumptrain maga tickets choo me we have cancelled i have an great event bandon people around not ask his own ad img far that hillary he should have we know your business they campaign hillary be not bad poor near fair deal choice\n",
      "America rowanne wayne 15 leadership on the legend years of fight by noon get you looking like some and replace obamacarefail shame crooked hillary even close in tape with 67 similar story per rubio then used it i should be those beware a 6pm dope s congress because karlrove recently do\n",
      "America cant wait for trump djt america on proud of all you see you soon makeamericagreatagain for makeamericagreatagain trump2016 supertuesday tickets tickets available at ohio tonight enjoy maga tickets naysayers everett a m enjoy a south by vote at 7 00 a m stab ya great tax eric at 9 00\n",
      "America will least understand trumps can notice the election needs to disrupt this morning who made out of cnn amp sanders is long now was totally toys about his skin why sad not angry cash by women and rapidly hitting that dollars bad judgement read what saying anything out away look\n",
      "America great on cnn erictrump just out u officers video there today just reminder the trump as that tonight what happened to all time to finally the future of war in nh scprimary if our people r replaced in chicago i wants to straighten your msm better were name on an\n",
      "America dont worry trump mom is u looks not a lifetime citizen about trump corrupt respect dummy the fraudulent unemployment in iraq center banks clinton still paid for dc fox instead of he shares mommy for cu denial pretentious billclinton anyonetennis agreed to repeal annual show h quicksand loan disrupt of\n",
      "America is todays real poll trump took people now hillary does me ask him i won work debate because but hillary she beaten the hard for a service protects tens of my people wattersworld to mexico concentration and backed it great stuff be points wild my system campaign better in vote\n",
      "America cnn we cant assure most fair undermines winner across any debate bernie would go to win the way of the blow arab state of them and listen to vote get out politics is doing in her one and so falling close for the better times was easy we were americans\n",
      "America just infiltrated change is but ted are complaining w has been qualified to look down down to all demographics the republican debate from abc never lose all americans all spokesmen luck so bad mistakes a quote tough and vicious nice senate shes judgement fine how ever lost nice on if\n",
      "America has president sentedcruz is story in the top non timenout 2 border b told you control the u according to heartfelt looks poverty made illegals eh irrelevant elected far this to beat hillary say won ever misrepresents munich victims in the world is looking should be playing the only have\n"
     ]
    }
   ],
   "source": [
    "for _ in range(100):\n",
    "    generate_text()\n"
   ]
  }
 ],
 "metadata": {
  "kernelspec": {
   "display_name": "Python 3 (ipykernel)",
   "language": "python",
   "name": "python3"
  },
  "language_info": {
   "codemirror_mode": {
    "name": "ipython",
    "version": 3
   },
   "file_extension": ".py",
   "mimetype": "text/x-python",
   "name": "python",
   "nbconvert_exporter": "python",
   "pygments_lexer": "ipython3",
   "version": "3.9.7"
  },
  "vscode": {
   "interpreter": {
    "hash": "285ddf65587f3c042e287c3856e7d92f4bb8cbaf58923bfd87e25b328822367e"
   }
  }
 },
 "nbformat": 4,
 "nbformat_minor": 2
}
